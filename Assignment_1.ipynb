{
  "nbformat": 4,
  "nbformat_minor": 0,
  "metadata": {
    "colab": {
      "name": "Assignment-1.ipynb",
      "provenance": [],
      "collapsed_sections": []
    },
    "kernelspec": {
      "name": "python3",
      "display_name": "Python 3"
    }
  },
  "cells": [
    {
      "cell_type": "code",
      "metadata": {
        "id": "aq4vzfJAEAoa",
        "colab_type": "code",
        "colab": {}
      },
      "source": [
        "# Write a Python program to print the following string in a specific format\n",
        "# (see the output).\n",
        "# Twinkle, twinkle, little star,\n",
        "#    How I wonder what you are!\n",
        "#       Up above the world so high,\n",
        "#       Like a diamond in the sky.\n",
        "# Twinkle, twinkle, little star,\n",
        "#    How I wonder what you are"
      ],
      "execution_count": 0,
      "outputs": []
    },
    {
      "cell_type": "code",
      "metadata": {
        "id": "h_KLNk2DD_XI",
        "colab_type": "code",
        "colab": {
          "base_uri": "https://localhost:8080/",
          "height": 121
        },
        "outputId": "eed87b12-bc8b-4e93-c343-0e5738984e75"
      },
      "source": [
        "print('Twinkle, twinkle, little star,\\n\\tHow I wonder what you are!\\n\\t\\tUp above the world so high,\\n\\t\\tLike a diamond in the sky.\\nTwinkle, twinkle, little star,\\n\\tHow I wonder what you are')"
      ],
      "execution_count": 3,
      "outputs": [
        {
          "output_type": "stream",
          "text": [
            "Twinkle, twinkle, little star,\n",
            "\tHow I wonder what you are!\n",
            "\t\tUp above the world so high,\n",
            "\t\tLike a diamond in the sky.\n",
            "Twinkle, twinkle, little star,\n",
            "\tHow I wonder what you are\n"
          ],
          "name": "stdout"
        }
      ]
    },
    {
      "cell_type": "code",
      "metadata": {
        "id": "4bfZai8lEXDr",
        "colab_type": "code",
        "colab": {}
      },
      "source": [
        "# Write a Python program to get the Python version you are using"
      ],
      "execution_count": 0,
      "outputs": []
    },
    {
      "cell_type": "code",
      "metadata": {
        "id": "mpTbQek1Ea5q",
        "colab_type": "code",
        "colab": {
          "base_uri": "https://localhost:8080/",
          "height": 52
        },
        "outputId": "8c43a19e-e794-4654-ac8a-e9866f5c54e2"
      },
      "source": [
        "import sys\n",
        "print(sys.version)"
      ],
      "execution_count": 5,
      "outputs": [
        {
          "output_type": "stream",
          "text": [
            "3.6.8 (default, Oct  7 2019, 12:59:55) \n",
            "[GCC 8.3.0]\n"
          ],
          "name": "stdout"
        }
      ]
    },
    {
      "cell_type": "code",
      "metadata": {
        "id": "qReteOEuEeDZ",
        "colab_type": "code",
        "colab": {}
      },
      "source": [
        "# Write a Python program to display the current date and time."
      ],
      "execution_count": 0,
      "outputs": []
    },
    {
      "cell_type": "code",
      "metadata": {
        "id": "dcjYDWMNEiq8",
        "colab_type": "code",
        "colab": {
          "base_uri": "https://localhost:8080/",
          "height": 34
        },
        "outputId": "cc3cf016-7331-4ef4-ac0d-b96033e31c97"
      },
      "source": [
        "import datetime\n",
        "print(datetime.datetime.today())"
      ],
      "execution_count": 8,
      "outputs": [
        {
          "output_type": "stream",
          "text": [
            "2019-11-03 16:21:45.672353\n"
          ],
          "name": "stdout"
        }
      ]
    },
    {
      "cell_type": "code",
      "metadata": {
        "id": "Xfg-JRiUEoBg",
        "colab_type": "code",
        "colab": {}
      },
      "source": [
        "# Write a Python program which accepts the radius of a circle from the user\n",
        "# and compute the area."
      ],
      "execution_count": 0,
      "outputs": []
    },
    {
      "cell_type": "code",
      "metadata": {
        "id": "re8red3bEubF",
        "colab_type": "code",
        "colab": {
          "base_uri": "https://localhost:8080/",
          "height": 52
        },
        "outputId": "0a69e6dd-af94-4a17-90a0-773e72cc3d58"
      },
      "source": [
        "import math\n",
        "r = float(input(\"Enter the radius of circle: \"))\n",
        "area = math.pi * r**2\n",
        "print(area)"
      ],
      "execution_count": 10,
      "outputs": [
        {
          "output_type": "stream",
          "text": [
            "Enter the radius of circle: 3\n",
            "28.274333882308138\n"
          ],
          "name": "stdout"
        }
      ]
    },
    {
      "cell_type": "code",
      "metadata": {
        "id": "jCY4ZVWGE7eC",
        "colab_type": "code",
        "colab": {}
      },
      "source": [
        "# Write a Python program which accepts the user's first and last name and\n",
        "# print them in reverse order with a space between them."
      ],
      "execution_count": 0,
      "outputs": []
    },
    {
      "cell_type": "code",
      "metadata": {
        "id": "PECe_b5IFA4H",
        "colab_type": "code",
        "colab": {
          "base_uri": "https://localhost:8080/",
          "height": 69
        },
        "outputId": "b88ffc86-54db-4443-870d-015abfbf0f3d"
      },
      "source": [
        "first_name = input('Enter your First name: ')\n",
        "last_name = input('Enter your last name: ')\n",
        "print(last_name, first_name)"
      ],
      "execution_count": 12,
      "outputs": [
        {
          "output_type": "stream",
          "text": [
            "Enter your First name: Muhammad\n",
            "Enter your last name: Hammad\n",
            "Hammad Muhammad\n"
          ],
          "name": "stdout"
        }
      ]
    },
    {
      "cell_type": "code",
      "metadata": {
        "id": "kAhxpTYjFM3N",
        "colab_type": "code",
        "colab": {}
      },
      "source": [
        "# Write a python program which takes two inputs from user and print them\n",
        "# addition"
      ],
      "execution_count": 0,
      "outputs": []
    },
    {
      "cell_type": "code",
      "metadata": {
        "id": "AGrHF9EqFSXf",
        "colab_type": "code",
        "colab": {
          "base_uri": "https://localhost:8080/",
          "height": 69
        },
        "outputId": "3c1e6d74-c0dd-436c-d8fd-80a3b4d08a34"
      },
      "source": [
        "first = float(input('Enter 1st value: '))\n",
        "second = float(input('Enter 2nd value: '))\n",
        "print(first+second)"
      ],
      "execution_count": 14,
      "outputs": [
        {
          "output_type": "stream",
          "text": [
            "Enter 1st value: 2\n",
            "Enter 2nd value: 3\n",
            "5.0\n"
          ],
          "name": "stdout"
        }
      ]
    },
    {
      "cell_type": "code",
      "metadata": {
        "id": "O5kpssRPFddV",
        "colab_type": "code",
        "colab": {}
      },
      "source": [
        ""
      ],
      "execution_count": 0,
      "outputs": []
    }
  ]
}